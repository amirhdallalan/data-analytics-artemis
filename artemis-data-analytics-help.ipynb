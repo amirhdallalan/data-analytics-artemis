{
 "cells": [
  {
   "cell_type": "code",
   "execution_count": 2,
   "metadata": {},
   "outputs": [],
   "source": [
    "import pandas as pd\n",
    "\n",
    "df = pd.read_csv('data/rocksamples.csv')"
   ]
  },
  {
   "cell_type": "markdown",
   "metadata": {},
   "source": [
    "# پارت اول: تماشای داده ها\n",
    "## اطلاعات کلی"
   ]
  },
  {
   "cell_type": "code",
   "execution_count": 3,
   "metadata": {},
   "outputs": [
    {
     "name": "stdout",
     "output_type": "stream",
     "text": [
      "<class 'pandas.core.frame.DataFrame'>\n",
      "RangeIndex: 2229 entries, 0 to 2228\n",
      "Data columns (total 6 columns):\n",
      " #   Column        Non-Null Count  Dtype  \n",
      "---  ------        --------------  -----  \n",
      " 0   ID            2229 non-null   int64  \n",
      " 1   Mission       2229 non-null   object \n",
      " 2   Type          2229 non-null   object \n",
      " 3   Subtype       2226 non-null   object \n",
      " 4   Weight (g)    2229 non-null   float64\n",
      " 5   Pristine (%)  2229 non-null   float64\n",
      "dtypes: float64(2), int64(1), object(3)\n",
      "memory usage: 104.6+ KB\n"
     ]
    },
    {
     "data": {
      "text/html": [
       "<div>\n",
       "<style scoped>\n",
       "    .dataframe tbody tr th:only-of-type {\n",
       "        vertical-align: middle;\n",
       "    }\n",
       "\n",
       "    .dataframe tbody tr th {\n",
       "        vertical-align: top;\n",
       "    }\n",
       "\n",
       "    .dataframe thead th {\n",
       "        text-align: right;\n",
       "    }\n",
       "</style>\n",
       "<table border=\"1\" class=\"dataframe\">\n",
       "  <thead>\n",
       "    <tr style=\"text-align: right;\">\n",
       "      <th></th>\n",
       "      <th>ID</th>\n",
       "      <th>Weight (g)</th>\n",
       "      <th>Pristine (%)</th>\n",
       "    </tr>\n",
       "  </thead>\n",
       "  <tbody>\n",
       "    <tr>\n",
       "      <th>count</th>\n",
       "      <td>2229.000000</td>\n",
       "      <td>2229.000000</td>\n",
       "      <td>2229.000000</td>\n",
       "    </tr>\n",
       "    <tr>\n",
       "      <th>mean</th>\n",
       "      <td>52058.432032</td>\n",
       "      <td>168.253024</td>\n",
       "      <td>84.512764</td>\n",
       "    </tr>\n",
       "    <tr>\n",
       "      <th>std</th>\n",
       "      <td>26207.651471</td>\n",
       "      <td>637.286458</td>\n",
       "      <td>22.057299</td>\n",
       "    </tr>\n",
       "    <tr>\n",
       "      <th>min</th>\n",
       "      <td>10001.000000</td>\n",
       "      <td>0.000000</td>\n",
       "      <td>0.000000</td>\n",
       "    </tr>\n",
       "    <tr>\n",
       "      <th>25%</th>\n",
       "      <td>15437.000000</td>\n",
       "      <td>3.000000</td>\n",
       "      <td>80.010000</td>\n",
       "    </tr>\n",
       "    <tr>\n",
       "      <th>50%</th>\n",
       "      <td>65527.000000</td>\n",
       "      <td>10.200000</td>\n",
       "      <td>92.300000</td>\n",
       "    </tr>\n",
       "    <tr>\n",
       "      <th>75%</th>\n",
       "      <td>72142.000000</td>\n",
       "      <td>93.490000</td>\n",
       "      <td>98.140000</td>\n",
       "    </tr>\n",
       "    <tr>\n",
       "      <th>max</th>\n",
       "      <td>79537.000000</td>\n",
       "      <td>11729.000000</td>\n",
       "      <td>180.000000</td>\n",
       "    </tr>\n",
       "  </tbody>\n",
       "</table>\n",
       "</div>"
      ],
      "text/plain": [
       "                 ID    Weight (g)  Pristine (%)\n",
       "count   2229.000000   2229.000000   2229.000000\n",
       "mean   52058.432032    168.253024     84.512764\n",
       "std    26207.651471    637.286458     22.057299\n",
       "min    10001.000000      0.000000      0.000000\n",
       "25%    15437.000000      3.000000     80.010000\n",
       "50%    65527.000000     10.200000     92.300000\n",
       "75%    72142.000000     93.490000     98.140000\n",
       "max    79537.000000  11729.000000    180.000000"
      ]
     },
     "execution_count": 3,
     "metadata": {},
     "output_type": "execute_result"
    }
   ],
   "source": [
    "#تماشای داده ها\n",
    "df.info()\n",
    "df.head()\n",
    "df.tail()\n",
    "df.describe()"
   ]
  },
  {
   "cell_type": "markdown",
   "metadata": {},
   "source": [
    "## ترسیم داده ها\n",
    "روش های مختلف ترسیم نمودار"
   ]
  },
  {
   "cell_type": "code",
   "execution_count": 4,
   "metadata": {},
   "outputs": [
    {
     "data": {
      "text/plain": [
       "<AxesSubplot:xlabel='Mission', ylabel='Weight (g)'>"
      ]
     },
     "execution_count": 4,
     "metadata": {},
     "output_type": "execute_result"
    },
    {
     "data": {
      "image/png": "[encoded data removed]",
      "text/plain": [
       "<Figure size 432x288 with 1 Axes>"
      ]
     },
     "metadata": {
      "needs_background": "light"
     },
     "output_type": "display_data"
    }
   ],
   "source": [
    "#ترسیم داده ها ۱\n",
    "df.plot(kind = 'scatter', x = 'Mission', y = 'Weight (g)')\n"
   ]
  },
  {
   "cell_type": "code",
   "execution_count": 5,
   "metadata": {},
   "outputs": [
    {
     "data": {
      "image/png": "[encoded data removed]",
      "text/plain": [
       "<Figure size 432x288 with 1 Axes>"
      ]
     },
     "metadata": {
      "needs_background": "light"
     },
     "output_type": "display_data"
    }
   ],
   "source": [
    "#ترسیم داده ه۲ ۱\n",
    "import matplotlib.pyplot as plt\n",
    "\n",
    "fig = plt.subplots()\n",
    "plt.scatter(df['Mission'], df['Weight (g)'])\n",
    "plt.xlabel('Mission')\n",
    "plt.ylabel('Weight (g)')\n",
    "plt.show()"
   ]
  },
  {
   "cell_type": "code",
   "execution_count": 6,
   "metadata": {},
   "outputs": [
    {
     "data": {
      "image/png": "[encoded data removed]",
      "text/plain": [
       "<Figure size 432x288 with 1 Axes>"
      ]
     },
     "metadata": {
      "needs_background": "light"
     },
     "output_type": "display_data"
    }
   ],
   "source": [
    "#ترسیم داده ها ۳\n",
    "fig, ax = plt.subplots()\n",
    "plt.scatter(df['Mission'], df['Weight (g)'])\n",
    "ax.set_xlabel('Mission')\n",
    "ax.set_ylabel('Weight (g)')\n",
    "plt.show()"
   ]
  },
  {
   "cell_type": "markdown",
   "metadata": {},
   "source": [
    "# پارت دوم: اصلاح داده ها\n",
    "شیوه رفتار با داده های تهی"
   ]
  },
  {
   "cell_type": "code",
   "execution_count": 7,
   "metadata": {},
   "outputs": [],
   "source": [
    "#یه نسخه کپی از دیتافریم\n",
    "df_m = df.copy()\n",
    "\n",
    "# ۱.پر کردن سطر ها با مقدار معین جایگزین\n",
    "mean = df_m['Weight (g)'].mean()\n",
    "median = df_m['Weight (g)'].median()\n",
    "mode = df_m['Weight (g)'].mode()[0]\n",
    "df_m['Weight (g)'].fillna(value = mean, inplace = True) #or you can use median/mode instead of mean\n",
    "\n",
    "# ۲.حذف سطر های دارای داده های تهی\n",
    "#(حتی یک سلول تهی)\n",
    "df_m.dropna(inplace=True)"
   ]
  },
  {
   "cell_type": "markdown",
   "metadata": {},
   "source": [
    "شیوه رفتار با داده های تکراری"
   ]
  },
  {
   "cell_type": "code",
   "execution_count": 8,
   "metadata": {},
   "outputs": [],
   "source": [
    "# حذف سطر های تکراری\n",
    "df_m.drop_duplicates(inplace=True)"
   ]
  },
  {
   "cell_type": "markdown",
   "metadata": {},
   "source": [
    "## مناسب کردن داده ها\n",
    "\n"
   ]
  },
  {
   "cell_type": "code",
   "execution_count": 9,
   "metadata": {},
   "outputs": [],
   "source": [
    "# تبدیل واحد\n",
    "# تبدیل واحد جرم ها از گرم به کیلوگرم\n",
    "df_m['Weight (g)'] = df_m['Weight (g)'].apply(lambda x: x/1000)\n"
   ]
  },
  {
   "cell_type": "code",
   "execution_count": 10,
   "metadata": {},
   "outputs": [],
   "source": [
    "# اصلاح سرستون های دیتافریم\n",
    "df_m.rename(columns={'Weight (g)':'Weight (kg)'}, inplace=True)"
   ]
  },
  {
   "cell_type": "markdown",
   "metadata": {},
   "source": [
    "## برخورد با داده های اشتباه\n",
    "تشخیص داده های اشتباه"
   ]
  },
  {
   "cell_type": "code",
   "execution_count": 11,
   "metadata": {},
   "outputs": [
    {
     "data": {
      "text/plain": [
       "<AxesSubplot:xlabel='Pristine (%)'>"
      ]
     },
     "execution_count": 11,
     "metadata": {},
     "output_type": "execute_result"
    },
    {
     "data": {
      "image/png": "[encoded data removed]",
      "text/plain": [
       "<Figure size 432x288 with 1 Axes>"
      ]
     },
     "metadata": {
      "needs_background": "light"
     },
     "output_type": "display_data"
    }
   ],
   "source": [
    "import seaborn as sb\n",
    "sb.boxplot(x=df_m['Pristine (%)'])"
   ]
  },
  {
   "cell_type": "markdown",
   "metadata": {},
   "source": [
    "حذف داده های اشتباه"
   ]
  },
  {
   "cell_type": "code",
   "execution_count": 12,
   "metadata": {},
   "outputs": [],
   "source": [
    "\n",
    "# حذف داده های پرت دیتافریم\n",
    "#q1_w = df_m['Weight (kg)'].quantile(0.25)\n",
    "#q3_w = df_m['Weight (kg)'].quantile(0.75)\n",
    "#iqr_w = q3_w - q1_w\n",
    "#\n",
    "#for i in df_m.index:\n",
    "#    if df_m.loc[i, 'Weight (kg)'] > q3_w+1.5*iqr_w:\n",
    "#        df_m.drop(i, inplace=True)\n",
    "#    if df_m.loc[i, 'Weight (kg)'] < q1_w-1.5*iqr_w:\n",
    "#        df_m.drop(i, inplace=True)\n",
    "\n",
    "\n",
    "\n",
    "# حذف داده های نادرست دیتافریم\n",
    "for i in df_m.index:\n",
    "    if df_m.loc[i, 'Pristine (%)'] > 100:\n",
    "        df_m.drop(i, inplace=True)\n",
    "\n"
   ]
  },
  {
   "cell_type": "markdown",
   "metadata": {},
   "source": [
    "# پارت سوم: تحلیل داده ها\n",
    "ایجاد یک دیتا فریم تازه برای واریز نتایج تحلیل"
   ]
  },
  {
   "cell_type": "code",
   "execution_count": 13,
   "metadata": {},
   "outputs": [],
   "source": [
    "# ساخت دیتافریم جدید\n",
    "missions = pd.DataFrame()"
   ]
  },
  {
   "cell_type": "code",
   "execution_count": 14,
   "metadata": {},
   "outputs": [
    {
     "data": {
      "text/html": [
       "<div>\n",
       "<style scoped>\n",
       "    .dataframe tbody tr th:only-of-type {\n",
       "        vertical-align: middle;\n",
       "    }\n",
       "\n",
       "    .dataframe tbody tr th {\n",
       "        vertical-align: top;\n",
       "    }\n",
       "\n",
       "    .dataframe thead th {\n",
       "        text-align: right;\n",
       "    }\n",
       "</style>\n",
       "<table border=\"1\" class=\"dataframe\">\n",
       "  <thead>\n",
       "    <tr style=\"text-align: right;\">\n",
       "      <th></th>\n",
       "      <th>Mission</th>\n",
       "    </tr>\n",
       "  </thead>\n",
       "  <tbody>\n",
       "    <tr>\n",
       "      <th>0</th>\n",
       "      <td>Apollo11</td>\n",
       "    </tr>\n",
       "    <tr>\n",
       "      <th>1</th>\n",
       "      <td>Apollo12</td>\n",
       "    </tr>\n",
       "    <tr>\n",
       "      <th>2</th>\n",
       "      <td>Apollo14</td>\n",
       "    </tr>\n",
       "    <tr>\n",
       "      <th>3</th>\n",
       "      <td>Apollo15</td>\n",
       "    </tr>\n",
       "    <tr>\n",
       "      <th>4</th>\n",
       "      <td>Apollo16</td>\n",
       "    </tr>\n",
       "    <tr>\n",
       "      <th>5</th>\n",
       "      <td>Apollo17</td>\n",
       "    </tr>\n",
       "  </tbody>\n",
       "</table>\n",
       "</div>"
      ],
      "text/plain": [
       "    Mission\n",
       "0  Apollo11\n",
       "1  Apollo12\n",
       "2  Apollo14\n",
       "3  Apollo15\n",
       "4  Apollo16\n",
       "5  Apollo17"
      ]
     },
     "execution_count": 14,
     "metadata": {},
     "output_type": "execute_result"
    }
   ],
   "source": [
    "# استخراج داده های یونیک از یک ستون بعنوان گروه داده\n",
    "missions['Mission'] = df_m['Mission'].unique()\n",
    "missions"
   ]
  },
  {
   "cell_type": "code",
   "execution_count": 15,
   "metadata": {},
   "outputs": [],
   "source": [
    "# جمع داده های یک ستون با استفاده از گروه داده ها\n",
    "total_df_weight = df_m.groupby('Mission')['Weight (kg)'].sum()\n"
   ]
  },
  {
   "cell_type": "code",
   "execution_count": 16,
   "metadata": {},
   "outputs": [
    {
     "data": {
      "text/html": [
       "<div>\n",
       "<style scoped>\n",
       "    .dataframe tbody tr th:only-of-type {\n",
       "        vertical-align: middle;\n",
       "    }\n",
       "\n",
       "    .dataframe tbody tr th {\n",
       "        vertical-align: top;\n",
       "    }\n",
       "\n",
       "    .dataframe thead th {\n",
       "        text-align: right;\n",
       "    }\n",
       "</style>\n",
       "<table border=\"1\" class=\"dataframe\">\n",
       "  <thead>\n",
       "    <tr style=\"text-align: right;\">\n",
       "      <th></th>\n",
       "      <th>Mission</th>\n",
       "      <th>Total Weight (kg)</th>\n",
       "    </tr>\n",
       "  </thead>\n",
       "  <tbody>\n",
       "    <tr>\n",
       "      <th>0</th>\n",
       "      <td>Apollo11</td>\n",
       "      <td>21.49408</td>\n",
       "    </tr>\n",
       "    <tr>\n",
       "      <th>1</th>\n",
       "      <td>Apollo12</td>\n",
       "      <td>31.82968</td>\n",
       "    </tr>\n",
       "    <tr>\n",
       "      <th>2</th>\n",
       "      <td>Apollo14</td>\n",
       "      <td>41.24569</td>\n",
       "    </tr>\n",
       "    <tr>\n",
       "      <th>3</th>\n",
       "      <td>Apollo15</td>\n",
       "      <td>74.95400</td>\n",
       "    </tr>\n",
       "    <tr>\n",
       "      <th>4</th>\n",
       "      <td>Apollo16</td>\n",
       "      <td>92.46112</td>\n",
       "    </tr>\n",
       "    <tr>\n",
       "      <th>5</th>\n",
       "      <td>Apollo17</td>\n",
       "      <td>109.31729</td>\n",
       "    </tr>\n",
       "  </tbody>\n",
       "</table>\n",
       "</div>"
      ],
      "text/plain": [
       "    Mission  Total Weight (kg)\n",
       "0  Apollo11           21.49408\n",
       "1  Apollo12           31.82968\n",
       "2  Apollo14           41.24569\n",
       "3  Apollo15           74.95400\n",
       "4  Apollo16           92.46112\n",
       "5  Apollo17          109.31729"
      ]
     },
     "execution_count": 16,
     "metadata": {},
     "output_type": "execute_result"
    }
   ],
   "source": [
    "# ادغام داده های جمع شده با دیتافریم گروه داده ها\n",
    "missions = pd.merge(missions, total_df_weight, on='Mission')\n",
    "missions.rename(columns={'Weight (kg)':'Total Weight (kg)'}, inplace=True)\n",
    "missions"
   ]
  },
  {
   "cell_type": "code",
   "execution_count": 17,
   "metadata": {},
   "outputs": [
    {
     "data": {
      "text/html": [
       "<div>\n",
       "<style scoped>\n",
       "    .dataframe tbody tr th:only-of-type {\n",
       "        vertical-align: middle;\n",
       "    }\n",
       "\n",
       "    .dataframe tbody tr th {\n",
       "        vertical-align: top;\n",
       "    }\n",
       "\n",
       "    .dataframe thead th {\n",
       "        text-align: right;\n",
       "    }\n",
       "</style>\n",
       "<table border=\"1\" class=\"dataframe\">\n",
       "  <thead>\n",
       "    <tr style=\"text-align: right;\">\n",
       "      <th></th>\n",
       "      <th>Mission</th>\n",
       "      <th>Total Weight (kg)</th>\n",
       "      <th>Wight Diff</th>\n",
       "    </tr>\n",
       "  </thead>\n",
       "  <tbody>\n",
       "    <tr>\n",
       "      <th>0</th>\n",
       "      <td>Apollo11</td>\n",
       "      <td>21.49408</td>\n",
       "      <td>0.00000</td>\n",
       "    </tr>\n",
       "    <tr>\n",
       "      <th>1</th>\n",
       "      <td>Apollo12</td>\n",
       "      <td>31.82968</td>\n",
       "      <td>10.33560</td>\n",
       "    </tr>\n",
       "    <tr>\n",
       "      <th>2</th>\n",
       "      <td>Apollo14</td>\n",
       "      <td>41.24569</td>\n",
       "      <td>9.41601</td>\n",
       "    </tr>\n",
       "    <tr>\n",
       "      <th>3</th>\n",
       "      <td>Apollo15</td>\n",
       "      <td>74.95400</td>\n",
       "      <td>33.70831</td>\n",
       "    </tr>\n",
       "    <tr>\n",
       "      <th>4</th>\n",
       "      <td>Apollo16</td>\n",
       "      <td>92.46112</td>\n",
       "      <td>17.50712</td>\n",
       "    </tr>\n",
       "    <tr>\n",
       "      <th>5</th>\n",
       "      <td>Apollo17</td>\n",
       "      <td>109.31729</td>\n",
       "      <td>16.85617</td>\n",
       "    </tr>\n",
       "  </tbody>\n",
       "</table>\n",
       "</div>"
      ],
      "text/plain": [
       "    Mission  Total Weight (kg)  Wight Diff\n",
       "0  Apollo11           21.49408     0.00000\n",
       "1  Apollo12           31.82968    10.33560\n",
       "2  Apollo14           41.24569     9.41601\n",
       "3  Apollo15           74.95400    33.70831\n",
       "4  Apollo16           92.46112    17.50712\n",
       "5  Apollo17          109.31729    16.85617"
      ]
     },
     "execution_count": 17,
     "metadata": {},
     "output_type": "execute_result"
    }
   ],
   "source": [
    "# تفاضل داده ها در یک ستون\n",
    "missions['Wight Diff'] = missions['Total Weight (kg)'].diff()\n",
    "missions['Wight Diff'] = missions['Wight Diff'].fillna(value=0)\n",
    "missions"
   ]
  },
  {
   "cell_type": "code",
   "execution_count": 18,
   "metadata": {},
   "outputs": [
    {
     "data": {
      "text/html": [
       "<div>\n",
       "<style scoped>\n",
       "    .dataframe tbody tr th:only-of-type {\n",
       "        vertical-align: middle;\n",
       "    }\n",
       "\n",
       "    .dataframe tbody tr th {\n",
       "        vertical-align: top;\n",
       "    }\n",
       "\n",
       "    .dataframe thead th {\n",
       "        text-align: right;\n",
       "    }\n",
       "</style>\n",
       "<table border=\"1\" class=\"dataframe\">\n",
       "  <thead>\n",
       "    <tr style=\"text-align: right;\">\n",
       "      <th></th>\n",
       "      <th>Mission</th>\n",
       "      <th>Total Weight (kg)</th>\n",
       "      <th>Wight Diff</th>\n",
       "      <th>Lunar Module (LM)</th>\n",
       "      <th>LM mass (kg)</th>\n",
       "      <th>LM mass diff</th>\n",
       "      <th>Command module (CM)</th>\n",
       "      <th>CM mass (kg)</th>\n",
       "      <th>CM mass diff</th>\n",
       "      <th>Total LM + CM mass (kg)</th>\n",
       "      <th>Total LM + CM mass diff</th>\n",
       "    </tr>\n",
       "  </thead>\n",
       "  <tbody>\n",
       "    <tr>\n",
       "      <th>0</th>\n",
       "      <td>Apollo11</td>\n",
       "      <td>21.49408</td>\n",
       "      <td>0.00000</td>\n",
       "      <td>Eagle (LM-5)</td>\n",
       "      <td>15103</td>\n",
       "      <td>0.0</td>\n",
       "      <td>Columbia (CSM-107)</td>\n",
       "      <td>5560</td>\n",
       "      <td>0.0</td>\n",
       "      <td>20663</td>\n",
       "      <td>0.0</td>\n",
       "    </tr>\n",
       "    <tr>\n",
       "      <th>1</th>\n",
       "      <td>Apollo12</td>\n",
       "      <td>31.82968</td>\n",
       "      <td>10.33560</td>\n",
       "      <td>Interpid (LM-6)</td>\n",
       "      <td>15235</td>\n",
       "      <td>132.0</td>\n",
       "      <td>Yankee Clipper (CM-108)</td>\n",
       "      <td>5609</td>\n",
       "      <td>49.0</td>\n",
       "      <td>20844</td>\n",
       "      <td>181.0</td>\n",
       "    </tr>\n",
       "    <tr>\n",
       "      <th>2</th>\n",
       "      <td>Apollo14</td>\n",
       "      <td>41.24569</td>\n",
       "      <td>9.41601</td>\n",
       "      <td>Antares (LM-8)</td>\n",
       "      <td>15264</td>\n",
       "      <td>29.0</td>\n",
       "      <td>Kitty Hawk (CM-110)</td>\n",
       "      <td>5758</td>\n",
       "      <td>149.0</td>\n",
       "      <td>21022</td>\n",
       "      <td>178.0</td>\n",
       "    </tr>\n",
       "    <tr>\n",
       "      <th>3</th>\n",
       "      <td>Apollo15</td>\n",
       "      <td>74.95400</td>\n",
       "      <td>33.70831</td>\n",
       "      <td>Falcon (LM-10)</td>\n",
       "      <td>16430</td>\n",
       "      <td>1166.0</td>\n",
       "      <td>Endeavor (CM-112)</td>\n",
       "      <td>5875</td>\n",
       "      <td>117.0</td>\n",
       "      <td>22305</td>\n",
       "      <td>1283.0</td>\n",
       "    </tr>\n",
       "    <tr>\n",
       "      <th>4</th>\n",
       "      <td>Apollo16</td>\n",
       "      <td>92.46112</td>\n",
       "      <td>17.50712</td>\n",
       "      <td>Orion (LM-11)</td>\n",
       "      <td>16445</td>\n",
       "      <td>15.0</td>\n",
       "      <td>Casper (CM-113)</td>\n",
       "      <td>5840</td>\n",
       "      <td>-35.0</td>\n",
       "      <td>22285</td>\n",
       "      <td>-20.0</td>\n",
       "    </tr>\n",
       "    <tr>\n",
       "      <th>5</th>\n",
       "      <td>Apollo17</td>\n",
       "      <td>109.31729</td>\n",
       "      <td>16.85617</td>\n",
       "      <td>Challenger (LM-12)</td>\n",
       "      <td>16456</td>\n",
       "      <td>11.0</td>\n",
       "      <td>America (CM-114)</td>\n",
       "      <td>5960</td>\n",
       "      <td>120.0</td>\n",
       "      <td>22416</td>\n",
       "      <td>131.0</td>\n",
       "    </tr>\n",
       "  </tbody>\n",
       "</table>\n",
       "</div>"
      ],
      "text/plain": [
       "    Mission  Total Weight (kg)  Wight Diff   Lunar Module (LM)  LM mass (kg)  \\\n",
       "0  Apollo11           21.49408     0.00000        Eagle (LM-5)         15103   \n",
       "1  Apollo12           31.82968    10.33560     Interpid (LM-6)         15235   \n",
       "2  Apollo14           41.24569     9.41601      Antares (LM-8)         15264   \n",
       "3  Apollo15           74.95400    33.70831      Falcon (LM-10)         16430   \n",
       "4  Apollo16           92.46112    17.50712       Orion (LM-11)         16445   \n",
       "5  Apollo17          109.31729    16.85617  Challenger (LM-12)         16456   \n",
       "\n",
       "   LM mass diff      Command module (CM)  CM mass (kg)  CM mass diff  \\\n",
       "0           0.0       Columbia (CSM-107)          5560           0.0   \n",
       "1         132.0  Yankee Clipper (CM-108)          5609          49.0   \n",
       "2          29.0      Kitty Hawk (CM-110)          5758         149.0   \n",
       "3        1166.0        Endeavor (CM-112)          5875         117.0   \n",
       "4          15.0          Casper (CM-113)          5840         -35.0   \n",
       "5          11.0         America (CM-114)          5960         120.0   \n",
       "\n",
       "   Total LM + CM mass (kg)  Total LM + CM mass diff  \n",
       "0                    20663                      0.0  \n",
       "1                    20844                    181.0  \n",
       "2                    21022                    178.0  \n",
       "3                    22305                   1283.0  \n",
       "4                    22285                    -20.0  \n",
       "5                    22416                    131.0  "
      ]
     },
     "execution_count": 18,
     "metadata": {},
     "output_type": "execute_result"
    }
   ],
   "source": [
    "# افزودن ستون(سری) جدید به دیتافریم\n",
    "missions['Lunar Module (LM)'] = ['Eagle (LM-5)', 'Interpid (LM-6)', 'Antares (LM-8)', 'Falcon (LM-10)', 'Orion (LM-11)', 'Challenger (LM-12)']\n",
    "missions['LM mass (kg)'] = [15103, 15235, 15264, 16430, 16445, 16456]\n",
    "missions['LM mass diff'] = missions['LM mass (kg)'].diff()\n",
    "missions['LM mass diff'] = missions['LM mass diff'].fillna(value=0)\n",
    "\n",
    "missions['Command module (CM)'] = ['Columbia (CSM-107)', 'Yankee Clipper (CM-108)', 'Kitty Hawk (CM-110)', 'Endeavor (CM-112)', 'Casper (CM-113)', 'America (CM-114)']\n",
    "missions['CM mass (kg)'] = [5560, 5609, 5758, 5875, 5840, 5960]\n",
    "missions['CM mass diff'] = missions['CM mass (kg)'].diff()\n",
    "missions['CM mass diff'] = missions['CM mass diff'].fillna(value=0)\n",
    "\n",
    "missions['Total LM + CM mass (kg)'] = missions['LM mass (kg)'] + missions['CM mass (kg)']\n",
    "missions['Total LM + CM mass diff'] = missions['Total LM + CM mass (kg)'].diff()\n",
    "missions['Total LM + CM mass diff'] = missions['Total LM + CM mass diff'].fillna(value=0)\n",
    "missions\n"
   ]
  },
  {
   "cell_type": "code",
   "execution_count": 19,
   "metadata": {},
   "outputs": [
    {
     "data": {
      "text/html": [
       "<div>\n",
       "<style scoped>\n",
       "    .dataframe tbody tr th:only-of-type {\n",
       "        vertical-align: middle;\n",
       "    }\n",
       "\n",
       "    .dataframe tbody tr th {\n",
       "        vertical-align: top;\n",
       "    }\n",
       "\n",
       "    .dataframe thead th {\n",
       "        text-align: right;\n",
       "    }\n",
       "</style>\n",
       "<table border=\"1\" class=\"dataframe\">\n",
       "  <thead>\n",
       "    <tr style=\"text-align: right;\">\n",
       "      <th></th>\n",
       "      <th>Mission</th>\n",
       "      <th>Total Weight (kg)</th>\n",
       "      <th>Wight Diff</th>\n",
       "      <th>Lunar Module (LM)</th>\n",
       "      <th>LM mass (kg)</th>\n",
       "      <th>LM mass diff</th>\n",
       "      <th>Command module (CM)</th>\n",
       "      <th>CM mass (kg)</th>\n",
       "      <th>CM mass diff</th>\n",
       "      <th>Total LM + CM mass (kg)</th>\n",
       "      <th>Total LM + CM mass diff</th>\n",
       "      <th>Crewed area : Payload</th>\n",
       "      <th>Sample : Crewed area</th>\n",
       "      <th>Sample : Payload</th>\n",
       "    </tr>\n",
       "  </thead>\n",
       "  <tbody>\n",
       "    <tr>\n",
       "      <th>0</th>\n",
       "      <td>Apollo11</td>\n",
       "      <td>21.49408</td>\n",
       "      <td>0.00000</td>\n",
       "      <td>Eagle (LM-5)</td>\n",
       "      <td>15103</td>\n",
       "      <td>0.0</td>\n",
       "      <td>Columbia (CSM-107)</td>\n",
       "      <td>5560</td>\n",
       "      <td>0.0</td>\n",
       "      <td>20663</td>\n",
       "      <td>0.0</td>\n",
       "      <td>0.475011</td>\n",
       "      <td>0.001040</td>\n",
       "      <td>0.000494</td>\n",
       "    </tr>\n",
       "    <tr>\n",
       "      <th>1</th>\n",
       "      <td>Apollo12</td>\n",
       "      <td>31.82968</td>\n",
       "      <td>10.33560</td>\n",
       "      <td>Interpid (LM-6)</td>\n",
       "      <td>15235</td>\n",
       "      <td>132.0</td>\n",
       "      <td>Yankee Clipper (CM-108)</td>\n",
       "      <td>5609</td>\n",
       "      <td>49.0</td>\n",
       "      <td>20844</td>\n",
       "      <td>181.0</td>\n",
       "      <td>0.479172</td>\n",
       "      <td>0.001527</td>\n",
       "      <td>0.000732</td>\n",
       "    </tr>\n",
       "    <tr>\n",
       "      <th>2</th>\n",
       "      <td>Apollo14</td>\n",
       "      <td>41.24569</td>\n",
       "      <td>9.41601</td>\n",
       "      <td>Antares (LM-8)</td>\n",
       "      <td>15264</td>\n",
       "      <td>29.0</td>\n",
       "      <td>Kitty Hawk (CM-110)</td>\n",
       "      <td>5758</td>\n",
       "      <td>149.0</td>\n",
       "      <td>21022</td>\n",
       "      <td>178.0</td>\n",
       "      <td>0.483264</td>\n",
       "      <td>0.001962</td>\n",
       "      <td>0.000948</td>\n",
       "    </tr>\n",
       "    <tr>\n",
       "      <th>3</th>\n",
       "      <td>Apollo15</td>\n",
       "      <td>74.95400</td>\n",
       "      <td>33.70831</td>\n",
       "      <td>Falcon (LM-10)</td>\n",
       "      <td>16430</td>\n",
       "      <td>1166.0</td>\n",
       "      <td>Endeavor (CM-112)</td>\n",
       "      <td>5875</td>\n",
       "      <td>117.0</td>\n",
       "      <td>22305</td>\n",
       "      <td>1283.0</td>\n",
       "      <td>0.512759</td>\n",
       "      <td>0.003360</td>\n",
       "      <td>0.001723</td>\n",
       "    </tr>\n",
       "    <tr>\n",
       "      <th>4</th>\n",
       "      <td>Apollo16</td>\n",
       "      <td>92.46112</td>\n",
       "      <td>17.50712</td>\n",
       "      <td>Orion (LM-11)</td>\n",
       "      <td>16445</td>\n",
       "      <td>15.0</td>\n",
       "      <td>Casper (CM-113)</td>\n",
       "      <td>5840</td>\n",
       "      <td>-35.0</td>\n",
       "      <td>22285</td>\n",
       "      <td>-20.0</td>\n",
       "      <td>0.512299</td>\n",
       "      <td>0.004149</td>\n",
       "      <td>0.002126</td>\n",
       "    </tr>\n",
       "    <tr>\n",
       "      <th>5</th>\n",
       "      <td>Apollo17</td>\n",
       "      <td>109.31729</td>\n",
       "      <td>16.85617</td>\n",
       "      <td>Challenger (LM-12)</td>\n",
       "      <td>16456</td>\n",
       "      <td>11.0</td>\n",
       "      <td>America (CM-114)</td>\n",
       "      <td>5960</td>\n",
       "      <td>120.0</td>\n",
       "      <td>22416</td>\n",
       "      <td>131.0</td>\n",
       "      <td>0.515310</td>\n",
       "      <td>0.004877</td>\n",
       "      <td>0.002513</td>\n",
       "    </tr>\n",
       "  </tbody>\n",
       "</table>\n",
       "</div>"
      ],
      "text/plain": [
       "    Mission  Total Weight (kg)  Wight Diff   Lunar Module (LM)  LM mass (kg)  \\\n",
       "0  Apollo11           21.49408     0.00000        Eagle (LM-5)         15103   \n",
       "1  Apollo12           31.82968    10.33560     Interpid (LM-6)         15235   \n",
       "2  Apollo14           41.24569     9.41601      Antares (LM-8)         15264   \n",
       "3  Apollo15           74.95400    33.70831      Falcon (LM-10)         16430   \n",
       "4  Apollo16           92.46112    17.50712       Orion (LM-11)         16445   \n",
       "5  Apollo17          109.31729    16.85617  Challenger (LM-12)         16456   \n",
       "\n",
       "   LM mass diff      Command module (CM)  CM mass (kg)  CM mass diff  \\\n",
       "0           0.0       Columbia (CSM-107)          5560           0.0   \n",
       "1         132.0  Yankee Clipper (CM-108)          5609          49.0   \n",
       "2          29.0      Kitty Hawk (CM-110)          5758         149.0   \n",
       "3        1166.0        Endeavor (CM-112)          5875         117.0   \n",
       "4          15.0          Casper (CM-113)          5840         -35.0   \n",
       "5          11.0         America (CM-114)          5960         120.0   \n",
       "\n",
       "   Total LM + CM mass (kg)  Total LM + CM mass diff  Crewed area : Payload  \\\n",
       "0                    20663                      0.0               0.475011   \n",
       "1                    20844                    181.0               0.479172   \n",
       "2                    21022                    178.0               0.483264   \n",
       "3                    22305                   1283.0               0.512759   \n",
       "4                    22285                    -20.0               0.512299   \n",
       "5                    22416                    131.0               0.515310   \n",
       "\n",
       "   Sample : Crewed area  Sample : Payload  \n",
       "0              0.001040          0.000494  \n",
       "1              0.001527          0.000732  \n",
       "2              0.001962          0.000948  \n",
       "3              0.003360          0.001723  \n",
       "4              0.004149          0.002126  \n",
       "5              0.004877          0.002513  "
      ]
     },
     "execution_count": 19,
     "metadata": {},
     "output_type": "execute_result"
    }
   ],
   "source": [
    "# محاسبه نسبت های وزنی - شاخصی برای پیش بینی ها\n",
    "saturnVPayload = 43500\n",
    "missions['Crewed area : Payload'] = missions['Total LM + CM mass (kg)'] / saturnVPayload\n",
    "missions['Sample : Crewed area'] = missions['Total Weight (kg)'] / missions['Total LM + CM mass (kg)']\n",
    "missions['Sample : Payload'] = missions['Total Weight (kg)'] / saturnVPayload\n",
    "missions"
   ]
  },
  {
   "cell_type": "code",
   "execution_count": 20,
   "metadata": {},
   "outputs": [
    {
     "name": "stdout",
     "output_type": "stream",
     "text": [
      "Crewed area : Payload =  0.4963026819923371\n",
      "Sample : Crewed area =  0.002819247186872154\n",
      "Sample : Payload =  0.001422612490421456\n"
     ]
    }
   ],
   "source": [
    "# محاسبه میانگین نسبت ها - بعنوان یک شاخص متعادل\n",
    "CrewedArea_Payload_Ratio = missions['Crewed area : Payload'].mean()\n",
    "Sample_CrewedArea_Ratio = missions['Sample : Crewed area'].mean()\n",
    "Sample_Payload_Ratio = missions['Sample : Payload'].mean()\n",
    "\n",
    "print('Crewed area : Payload = ', CrewedArea_Payload_Ratio)\n",
    "print('Sample : Crewed area = ', Sample_CrewedArea_Ratio)\n",
    "print('Sample : Payload = ', Sample_Payload_Ratio)"
   ]
  },
  {
   "cell_type": "markdown",
   "metadata": {},
   "source": [
    "# پارت چهارم: تفسیر و پیش بینی\n",
    "ایجاد دیتافریم جدید برای ثبت نتایج پیش بینی"
   ]
  },
  {
   "cell_type": "code",
   "execution_count": 21,
   "metadata": {},
   "outputs": [
    {
     "data": {
      "text/html": [
       "<div>\n",
       "<style scoped>\n",
       "    .dataframe tbody tr th:only-of-type {\n",
       "        vertical-align: middle;\n",
       "    }\n",
       "\n",
       "    .dataframe tbody tr th {\n",
       "        vertical-align: top;\n",
       "    }\n",
       "\n",
       "    .dataframe thead th {\n",
       "        text-align: right;\n",
       "    }\n",
       "</style>\n",
       "<table border=\"1\" class=\"dataframe\">\n",
       "  <thead>\n",
       "    <tr style=\"text-align: right;\">\n",
       "      <th></th>\n",
       "      <th>Mission</th>\n",
       "      <th>Payload (kg)</th>\n",
       "      <th>Total Weight (kg)</th>\n",
       "    </tr>\n",
       "  </thead>\n",
       "  <tbody>\n",
       "    <tr>\n",
       "      <th>0</th>\n",
       "      <td>artemis1</td>\n",
       "      <td>26988</td>\n",
       "      <td>13394.216782</td>\n",
       "    </tr>\n",
       "    <tr>\n",
       "      <th>1</th>\n",
       "      <td>artemis1b</td>\n",
       "      <td>37965</td>\n",
       "      <td>18842.131322</td>\n",
       "    </tr>\n",
       "    <tr>\n",
       "      <th>2</th>\n",
       "      <td>artemis2</td>\n",
       "      <td>42955</td>\n",
       "      <td>21318.681705</td>\n",
       "    </tr>\n",
       "  </tbody>\n",
       "</table>\n",
       "</div>"
      ],
      "text/plain": [
       "     Mission  Payload (kg)  Total Weight (kg)\n",
       "0   artemis1         26988       13394.216782\n",
       "1  artemis1b         37965       18842.131322\n",
       "2   artemis2         42955       21318.681705"
      ]
     },
     "execution_count": 21,
     "metadata": {},
     "output_type": "execute_result"
    }
   ],
   "source": [
    "artemis_missions = pd.DataFrame({'Mission' : ['artemis1','artemis1b','artemis2'], 'Payload (kg)' : [26988, 37965, 42955]})\n",
    "artemis_missions['Total Weight (kg)'] = artemis_missions['Payload (kg)']* CrewedArea_Payload_Ratio\n",
    "artemis_missions\n"
   ]
  },
  {
   "cell_type": "code",
   "execution_count": 22,
   "metadata": {},
   "outputs": [
    {
     "data": {
      "text/html": [
       "<div>\n",
       "<style scoped>\n",
       "    .dataframe tbody tr th:only-of-type {\n",
       "        vertical-align: middle;\n",
       "    }\n",
       "\n",
       "    .dataframe tbody tr th {\n",
       "        vertical-align: top;\n",
       "    }\n",
       "\n",
       "    .dataframe thead th {\n",
       "        text-align: right;\n",
       "    }\n",
       "</style>\n",
       "<table border=\"1\" class=\"dataframe\">\n",
       "  <thead>\n",
       "    <tr style=\"text-align: right;\">\n",
       "      <th></th>\n",
       "      <th>Mission</th>\n",
       "      <th>Payload (kg)</th>\n",
       "      <th>Total Weight (kg)</th>\n",
       "      <th>Sample Weight from total (kg)</th>\n",
       "      <th>Sample Weight from payload (kg)</th>\n",
       "    </tr>\n",
       "  </thead>\n",
       "  <tbody>\n",
       "    <tr>\n",
       "      <th>0</th>\n",
       "      <td>artemis1</td>\n",
       "      <td>26988</td>\n",
       "      <td>13394.216782</td>\n",
       "      <td>37.761608</td>\n",
       "      <td>38.393466</td>\n",
       "    </tr>\n",
       "    <tr>\n",
       "      <th>1</th>\n",
       "      <td>artemis1b</td>\n",
       "      <td>37965</td>\n",
       "      <td>18842.131322</td>\n",
       "      <td>53.120626</td>\n",
       "      <td>54.009483</td>\n",
       "    </tr>\n",
       "    <tr>\n",
       "      <th>2</th>\n",
       "      <td>artemis2</td>\n",
       "      <td>42955</td>\n",
       "      <td>21318.681705</td>\n",
       "      <td>60.102633</td>\n",
       "      <td>61.108320</td>\n",
       "    </tr>\n",
       "  </tbody>\n",
       "</table>\n",
       "</div>"
      ],
      "text/plain": [
       "     Mission  Payload (kg)  Total Weight (kg)  Sample Weight from total (kg)  \\\n",
       "0   artemis1         26988       13394.216782                      37.761608   \n",
       "1  artemis1b         37965       18842.131322                      53.120626   \n",
       "2   artemis2         42955       21318.681705                      60.102633   \n",
       "\n",
       "   Sample Weight from payload (kg)  \n",
       "0                        38.393466  \n",
       "1                        54.009483  \n",
       "2                        61.108320  "
      ]
     },
     "execution_count": 22,
     "metadata": {},
     "output_type": "execute_result"
    }
   ],
   "source": [
    "artemis_missions['Sample Weight from total (kg)'] = artemis_missions['Total Weight (kg)'] * Sample_CrewedArea_Ratio\n",
    "artemis_missions['Sample Weight from payload (kg)'] = artemis_missions['Payload (kg)'] * Sample_Payload_Ratio\n",
    "artemis_missions"
   ]
  },
  {
   "cell_type": "markdown",
   "metadata": {},
   "source": [
    "پیش بینی وزن نمونه برداری بصورت میانگین نتایج تفسیر"
   ]
  },
  {
   "cell_type": "code",
   "execution_count": 23,
   "metadata": {},
   "outputs": [
    {
     "data": {
      "text/html": [
       "<div>\n",
       "<style scoped>\n",
       "    .dataframe tbody tr th:only-of-type {\n",
       "        vertical-align: middle;\n",
       "    }\n",
       "\n",
       "    .dataframe tbody tr th {\n",
       "        vertical-align: top;\n",
       "    }\n",
       "\n",
       "    .dataframe thead th {\n",
       "        text-align: right;\n",
       "    }\n",
       "</style>\n",
       "<table border=\"1\" class=\"dataframe\">\n",
       "  <thead>\n",
       "    <tr style=\"text-align: right;\">\n",
       "      <th></th>\n",
       "      <th>Mission</th>\n",
       "      <th>Payload (kg)</th>\n",
       "      <th>Total Weight (kg)</th>\n",
       "      <th>Sample Weight from total (kg)</th>\n",
       "      <th>Sample Weight from payload (kg)</th>\n",
       "      <th>Estimated Sample Weight (kg)</th>\n",
       "    </tr>\n",
       "  </thead>\n",
       "  <tbody>\n",
       "    <tr>\n",
       "      <th>0</th>\n",
       "      <td>artemis1</td>\n",
       "      <td>26988</td>\n",
       "      <td>13394.216782</td>\n",
       "      <td>37.761608</td>\n",
       "      <td>38.393466</td>\n",
       "      <td>38.077537</td>\n",
       "    </tr>\n",
       "    <tr>\n",
       "      <th>1</th>\n",
       "      <td>artemis1b</td>\n",
       "      <td>37965</td>\n",
       "      <td>18842.131322</td>\n",
       "      <td>53.120626</td>\n",
       "      <td>54.009483</td>\n",
       "      <td>53.565054</td>\n",
       "    </tr>\n",
       "    <tr>\n",
       "      <th>2</th>\n",
       "      <td>artemis2</td>\n",
       "      <td>42955</td>\n",
       "      <td>21318.681705</td>\n",
       "      <td>60.102633</td>\n",
       "      <td>61.108320</td>\n",
       "      <td>60.605476</td>\n",
       "    </tr>\n",
       "  </tbody>\n",
       "</table>\n",
       "</div>"
      ],
      "text/plain": [
       "     Mission  Payload (kg)  Total Weight (kg)  Sample Weight from total (kg)  \\\n",
       "0   artemis1         26988       13394.216782                      37.761608   \n",
       "1  artemis1b         37965       18842.131322                      53.120626   \n",
       "2   artemis2         42955       21318.681705                      60.102633   \n",
       "\n",
       "   Sample Weight from payload (kg)  Estimated Sample Weight (kg)  \n",
       "0                        38.393466                     38.077537  \n",
       "1                        54.009483                     53.565054  \n",
       "2                        61.108320                     60.605476  "
      ]
     },
     "execution_count": 23,
     "metadata": {},
     "output_type": "execute_result"
    }
   ],
   "source": [
    "artemis_missions['Estimated Sample Weight (kg)'] = (artemis_missions['Sample Weight from total (kg)'] + artemis_missions['Sample Weight from payload (kg)'])/2\n",
    "artemis_missions"
   ]
  },
  {
   "cell_type": "markdown",
   "metadata": {},
   "source": [
    "تفسیر اولویت نمونه برداری"
   ]
  },
  {
   "cell_type": "code",
   "execution_count": 24,
   "metadata": {},
   "outputs": [
    {
     "data": {
      "text/html": [
       "<div>\n",
       "<style scoped>\n",
       "    .dataframe tbody tr th:only-of-type {\n",
       "        vertical-align: middle;\n",
       "    }\n",
       "\n",
       "    .dataframe tbody tr th {\n",
       "        vertical-align: top;\n",
       "    }\n",
       "\n",
       "    .dataframe thead th {\n",
       "        text-align: right;\n",
       "    }\n",
       "</style>\n",
       "<table border=\"1\" class=\"dataframe\">\n",
       "  <thead>\n",
       "    <tr style=\"text-align: right;\">\n",
       "      <th></th>\n",
       "      <th>ID</th>\n",
       "      <th>Weight (kg)</th>\n",
       "      <th>Pristine (%)</th>\n",
       "      <th>Remaining (kg)</th>\n",
       "    </tr>\n",
       "  </thead>\n",
       "  <tbody>\n",
       "    <tr>\n",
       "      <th>count</th>\n",
       "      <td>2208.000000</td>\n",
       "      <td>2208.000000</td>\n",
       "      <td>2208.000000</td>\n",
       "      <td>2208.000000</td>\n",
       "    </tr>\n",
       "    <tr>\n",
       "      <th>mean</th>\n",
       "      <td>52295.559783</td>\n",
       "      <td>0.168162</td>\n",
       "      <td>84.313465</td>\n",
       "      <td>0.137689</td>\n",
       "    </tr>\n",
       "    <tr>\n",
       "      <th>std</th>\n",
       "      <td>26118.027174</td>\n",
       "      <td>0.638858</td>\n",
       "      <td>21.833291</td>\n",
       "      <td>0.526621</td>\n",
       "    </tr>\n",
       "    <tr>\n",
       "      <th>min</th>\n",
       "      <td>10001.000000</td>\n",
       "      <td>0.000000</td>\n",
       "      <td>0.000000</td>\n",
       "      <td>0.000000</td>\n",
       "    </tr>\n",
       "    <tr>\n",
       "      <th>25%</th>\n",
       "      <td>15467.750000</td>\n",
       "      <td>0.003027</td>\n",
       "      <td>80.000000</td>\n",
       "      <td>0.002450</td>\n",
       "    </tr>\n",
       "    <tr>\n",
       "      <th>50%</th>\n",
       "      <td>65538.500000</td>\n",
       "      <td>0.010215</td>\n",
       "      <td>92.150000</td>\n",
       "      <td>0.008565</td>\n",
       "    </tr>\n",
       "    <tr>\n",
       "      <th>75%</th>\n",
       "      <td>72151.250000</td>\n",
       "      <td>0.093423</td>\n",
       "      <td>98.042500</td>\n",
       "      <td>0.077061</td>\n",
       "    </tr>\n",
       "    <tr>\n",
       "      <th>max</th>\n",
       "      <td>79537.000000</td>\n",
       "      <td>11.729000</td>\n",
       "      <td>100.000000</td>\n",
       "      <td>11.169527</td>\n",
       "    </tr>\n",
       "  </tbody>\n",
       "</table>\n",
       "</div>"
      ],
      "text/plain": [
       "                 ID  Weight (kg)  Pristine (%)  Remaining (kg)\n",
       "count   2208.000000  2208.000000   2208.000000     2208.000000\n",
       "mean   52295.559783     0.168162     84.313465        0.137689\n",
       "std    26118.027174     0.638858     21.833291        0.526621\n",
       "min    10001.000000     0.000000      0.000000        0.000000\n",
       "25%    15467.750000     0.003027     80.000000        0.002450\n",
       "50%    65538.500000     0.010215     92.150000        0.008565\n",
       "75%    72151.250000     0.093423     98.042500        0.077061\n",
       "max    79537.000000    11.729000    100.000000       11.169527"
      ]
     },
     "execution_count": 24,
     "metadata": {},
     "output_type": "execute_result"
    }
   ],
   "source": [
    "df_m['Remaining (kg)'] = df_m['Weight (kg)']*df_m['Pristine (%)']/100\n",
    "df_m.describe()\n"
   ]
  },
  {
   "cell_type": "code",
   "execution_count": 25,
   "metadata": {},
   "outputs": [
    {
     "name": "stdout",
     "output_type": "stream",
     "text": [
      "<class 'pandas.core.frame.DataFrame'>\n",
      "Int64Index: 1773 entries, 0 to 2228\n",
      "Data columns (total 7 columns):\n",
      " #   Column          Non-Null Count  Dtype  \n",
      "---  ------          --------------  -----  \n",
      " 0   ID              1773 non-null   int64  \n",
      " 1   Mission         1773 non-null   object \n",
      " 2   Type            1773 non-null   object \n",
      " 3   Subtype         1773 non-null   object \n",
      " 4   Weight (kg)     1773 non-null   float64\n",
      " 5   Pristine (%)    1773 non-null   float64\n",
      " 6   Remaining (kg)  1773 non-null   float64\n",
      "dtypes: float64(3), int64(1), object(3)\n",
      "memory usage: 110.8+ KB\n"
     ]
    }
   ],
   "source": [
    "# نمونه های دارای اولویت\n",
    "df_critical = df_m.loc[(df_m['Weight (kg)'] <= df_m['Weight (kg)'].mean()) & (df_m['Remaining (kg)'] <= df_m['Remaining (kg)'].mean())]\n",
    "df_critical.info()"
   ]
  },
  {
   "cell_type": "code",
   "execution_count": 26,
   "metadata": {},
   "outputs": [
    {
     "data": {
      "text/plain": [
       "Type\n",
       "Basalt      4.75262\n",
       "Breccia    12.47271\n",
       "Core        1.03927\n",
       "Crustal     0.48060\n",
       "Soil       17.81696\n",
       "Special     0.00300\n",
       "Name: Weight (kg), dtype: float64"
      ]
     },
     "execution_count": 26,
     "metadata": {},
     "output_type": "execute_result"
    }
   ],
   "source": [
    "# وزن نمونه های دارای اولویت\n",
    "df_critical.groupby('Type')['Weight (kg)'].sum()"
   ]
  },
  {
   "cell_type": "code",
   "execution_count": 27,
   "metadata": {},
   "outputs": [],
   "source": [
    "# براساس وزن قابل حمل، تمامی نمونه های دارای الویت امکان حمل را دارند\n",
    "df_needed = df_critical\n",
    "\n",
    "# اگر وزن نمونه های دارای اولویت بیشتر از وزن قابل حمل توسط آرتمیس باشد:\n",
    "# critical_typs = ['basalt', 'breccia']\n",
    "# برای مثال میتوان از نوع نمونه ها برای اولویت بندی استفاده کرد.\n",
    "# df_needed = df_critical.loc[df_critical['Type'].isin[critical_types]]"
   ]
  },
  {
   "cell_type": "code",
   "execution_count": 35,
   "metadata": {},
   "outputs": [
    {
     "data": {
      "text/html": [
       "<div>\n",
       "<style scoped>\n",
       "    .dataframe tbody tr th:only-of-type {\n",
       "        vertical-align: middle;\n",
       "    }\n",
       "\n",
       "    .dataframe tbody tr th {\n",
       "        vertical-align: top;\n",
       "    }\n",
       "\n",
       "    .dataframe thead th {\n",
       "        text-align: right;\n",
       "    }\n",
       "</style>\n",
       "<table border=\"1\" class=\"dataframe\">\n",
       "  <thead>\n",
       "    <tr style=\"text-align: right;\">\n",
       "      <th></th>\n",
       "      <th>Type</th>\n",
       "      <th>Weight (kg)</th>\n",
       "    </tr>\n",
       "  </thead>\n",
       "  <tbody>\n",
       "    <tr>\n",
       "      <th>0</th>\n",
       "      <td>Soil</td>\n",
       "      <td>17.81696</td>\n",
       "    </tr>\n",
       "    <tr>\n",
       "      <th>1</th>\n",
       "      <td>Core</td>\n",
       "      <td>1.03927</td>\n",
       "    </tr>\n",
       "    <tr>\n",
       "      <th>2</th>\n",
       "      <td>Breccia</td>\n",
       "      <td>12.47271</td>\n",
       "    </tr>\n",
       "    <tr>\n",
       "      <th>3</th>\n",
       "      <td>Basalt</td>\n",
       "      <td>4.75262</td>\n",
       "    </tr>\n",
       "    <tr>\n",
       "      <th>4</th>\n",
       "      <td>Crustal</td>\n",
       "      <td>0.48060</td>\n",
       "    </tr>\n",
       "    <tr>\n",
       "      <th>5</th>\n",
       "      <td>Special</td>\n",
       "      <td>0.00300</td>\n",
       "    </tr>\n",
       "  </tbody>\n",
       "</table>\n",
       "</div>"
      ],
      "text/plain": [
       "      Type  Weight (kg)\n",
       "0     Soil     17.81696\n",
       "1     Core      1.03927\n",
       "2  Breccia     12.47271\n",
       "3   Basalt      4.75262\n",
       "4  Crustal      0.48060\n",
       "5  Special      0.00300"
      ]
     },
     "execution_count": 35,
     "metadata": {},
     "output_type": "execute_result"
    }
   ],
   "source": [
    "# گزارش پیش بینی وزن و نوع نمونه های دارای اولویت\n",
    "df_needed_overview = pd.DataFrame()\n",
    "df_needed_overview['Type'] = df_needed.Type.unique()\n",
    "df_needed_weight = df_needed.groupby('Type')['Weight (kg)'].sum().reset_index()\n",
    "df_needed_overview = pd.merge(df_needed_overview, df_needed_weight, on='Type')\n",
    "df_needed_overview"
   ]
  }
 ],
 "metadata": {
  "interpreter": {
   "hash": "826c386f26bc1c62e6d274b8427f10ff9d28499415cc927f6425e248384d48ce"
  },
  "kernelspec": {
   "display_name": "Python 3.9.6 64-bit",
   "name": "python3"
  },
  "language_info": {
   "codemirror_mode": {
    "name": "ipython",
    "version": 3
   },
   "file_extension": ".py",
   "mimetype": "text/x-python",
   "name": "python",
   "nbconvert_exporter": "python",
   "pygments_lexer": "ipython3",
   "version": "3.9.6"
  },
  "orig_nbformat": 4
 },
 "nbformat": 4,
 "nbformat_minor": 2
}
